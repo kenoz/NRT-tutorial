{
 "cells": [
  {
   "cell_type": "markdown",
   "id": "c39bab80-cef8-4e77-836e-0bc7bf5f847f",
   "metadata": {},
   "source": [
    "# III. Plotting time-series with NRT Package\n",
    "\n",
    "---\n",
    "\n",
    "We can now start analyzing the VI time-series with the NRT package. The objective is to fully understand how this tool works, by visualizing through plots the time-series values, the modeling by harmonious function and the more or less early detections depending on the methods used.\n",
    "\n",
    "---\n",
    "## 0. Install NRT package (optional)\n",
    "\n",
    "Depending of your Python environment, you can install the NRT Package in different ways. Here, we choose to install the package in our current session (uncomment the line of code if necessary)."
   ]
  },
  {
   "cell_type": "code",
   "execution_count": 1,
   "id": "17ab3879-3e6e-48f9-bd66-579a0f6c54d8",
   "metadata": {},
   "outputs": [],
   "source": [
    "#!pip install nrt"
   ]
  },
  {
   "cell_type": "markdown",
   "id": "92e41072-bf2d-4e88-8029-cbad740af75c",
   "metadata": {},
   "source": [
    "---\n",
    "\n",
    "## 1. Import librairies\n",
    "\n",
    "Here are imported all detection methods avalaible in the NRT package:\n",
    "- **EWMA**: Exponentially Weighted Moving Average\n",
    "- **IQR**: InterQuantile Range\n",
    "- **CCDC**: Continuous Change Detection and Classification of land cover\n",
    "- **CuSum**: Cumulative Sum of Residual\n",
    "- **MoSum**: Moving Sum of Residuals"
   ]
  },
  {
   "cell_type": "code",
   "execution_count": 2,
   "id": "bc33d931-5ce4-445d-a7c6-5a8652da04d3",
   "metadata": {},
   "outputs": [],
   "source": [
    "from nrt.monitor.ewma import EWMA\n",
    "from nrt.monitor.iqr import IQR\n",
    "from nrt.monitor.ccdc import CCDC\n",
    "from nrt.monitor.cusum import CuSum\n",
    "from nrt.monitor.mosum import MoSum"
   ]
  },
  {
   "cell_type": "markdown",
   "id": "a6bd9216-d845-4442-b1fe-ba69f99af057",
   "metadata": {},
   "source": [
    "We also import the spatial librairies"
   ]
  },
  {
   "cell_type": "code",
   "execution_count": 3,
   "id": "be044bcf-d0d4-4c14-bf75-244994f81450",
   "metadata": {},
   "outputs": [],
   "source": [
    "import datetime as dt\n",
    "import geopandas as gpd\n",
    "import xarray as xr\n",
    "import numpy as np"
   ]
  },
  {
   "cell_type": "markdown",
   "id": "eea8125b-1e5a-4be5-b909-3500e42f5150",
   "metadata": {},
   "source": [
    "... And an add-on to the NRT package, available only in this tutorial. It allows you to easily compare, through plots, the detections carried out by the different methods with reference data."
   ]
  },
  {
   "cell_type": "code",
   "execution_count": 4,
   "id": "8304ef11-cb14-46e6-ae84-456e24e2ce75",
   "metadata": {},
   "outputs": [],
   "source": [
    "from nrt_plot import Nrt_plot"
   ]
  },
  {
   "cell_type": "markdown",
   "id": "c763e3ce-e84f-4f4b-ba92-b5abaf4bd256",
   "metadata": {},
   "source": [
    "---\n",
    "\n",
    "## 2. Loading samples and VI time-series\n",
    "\n",
    "### 2.1. Point samples\n",
    "\n",
    "We visually interpreted some points in the sentinel time series, noting the probable date of appearance of the yellow or red stage of bark beetle dieback (the initial stage, called green, is impossible to estimate on \"natural color\" compositions ). This information is saved in the vector file `plot01_samples.shp`.\n",
    "\n",
    "Below an illustration of these points superimposed on a recent image from Google Maps:\n",
    "\n",
    "<img src=\"img/sampling_points.png\" alt=\"drawing\" width=\"1000\"/>\n",
    "\n",
    "For each point, we have the following information:\n",
    "- `chgt_int`: index\n",
    "- `SAMPLE_1`: date in UNIX format (nb of days from 01/01/1970)\n",
    "- `date_mon`: date in YYYY-MM-DD\n",
    "- `geometry`: geometry in epsg:3035"
   ]
  },
  {
   "cell_type": "code",
   "execution_count": 6,
   "id": "d6fd8f62-adc0-47eb-a3fc-3215f1452756",
   "metadata": {},
   "outputs": [
    {
     "data": {
      "text/html": [
       "<div>\n",
       "<style scoped>\n",
       "    .dataframe tbody tr th:only-of-type {\n",
       "        vertical-align: middle;\n",
       "    }\n",
       "\n",
       "    .dataframe tbody tr th {\n",
       "        vertical-align: top;\n",
       "    }\n",
       "\n",
       "    .dataframe thead th {\n",
       "        text-align: right;\n",
       "    }\n",
       "</style>\n",
       "<table border=\"1\" class=\"dataframe\">\n",
       "  <thead>\n",
       "    <tr style=\"text-align: right;\">\n",
       "      <th></th>\n",
       "      <th>id</th>\n",
       "      <th>chgt_int</th>\n",
       "      <th>SAMPLE_1</th>\n",
       "      <th>date_mon</th>\n",
       "      <th>geometry</th>\n",
       "    </tr>\n",
       "  </thead>\n",
       "  <tbody>\n",
       "    <tr>\n",
       "      <th>0</th>\n",
       "      <td>None</td>\n",
       "      <td>1</td>\n",
       "      <td>17917</td>\n",
       "      <td>2019-01-21</td>\n",
       "      <td>POINT (3954485.331 2912697.966)</td>\n",
       "    </tr>\n",
       "    <tr>\n",
       "      <th>1</th>\n",
       "      <td>None</td>\n",
       "      <td>2</td>\n",
       "      <td>17992</td>\n",
       "      <td>2019-04-06</td>\n",
       "      <td>POINT (3954538.339 2912799.742)</td>\n",
       "    </tr>\n",
       "    <tr>\n",
       "      <th>2</th>\n",
       "      <td>None</td>\n",
       "      <td>3</td>\n",
       "      <td>18062</td>\n",
       "      <td>2019-06-15</td>\n",
       "      <td>POINT (3954562.723 2912844.268)</td>\n",
       "    </tr>\n",
       "    <tr>\n",
       "      <th>3</th>\n",
       "      <td>None</td>\n",
       "      <td>4</td>\n",
       "      <td>18087</td>\n",
       "      <td>2019-07-10</td>\n",
       "      <td>POINT (3954531.978 2912881.374)</td>\n",
       "    </tr>\n",
       "    <tr>\n",
       "      <th>4</th>\n",
       "      <td>None</td>\n",
       "      <td>5</td>\n",
       "      <td>18149</td>\n",
       "      <td>2019-09-10</td>\n",
       "      <td>POINT (3954475.790 2912926.961)</td>\n",
       "    </tr>\n",
       "    <tr>\n",
       "      <th>5</th>\n",
       "      <td>None</td>\n",
       "      <td>6</td>\n",
       "      <td>18159</td>\n",
       "      <td>2019-09-20</td>\n",
       "      <td>POINT (3954604.069 2912906.818)</td>\n",
       "    </tr>\n",
       "    <tr>\n",
       "      <th>6</th>\n",
       "      <td>None</td>\n",
       "      <td>7</td>\n",
       "      <td>18234</td>\n",
       "      <td>2019-12-04</td>\n",
       "      <td>POINT (3954613.611 2912943.924)</td>\n",
       "    </tr>\n",
       "    <tr>\n",
       "      <th>7</th>\n",
       "      <td>None</td>\n",
       "      <td>8</td>\n",
       "      <td>18249</td>\n",
       "      <td>2019-12-19</td>\n",
       "      <td>POINT (3954683.581 2912967.247)</td>\n",
       "    </tr>\n",
       "    <tr>\n",
       "      <th>8</th>\n",
       "      <td>None</td>\n",
       "      <td>9</td>\n",
       "      <td>18299</td>\n",
       "      <td>2020-02-07</td>\n",
       "      <td>POINT (3954830.944 2912876.073)</td>\n",
       "    </tr>\n",
       "    <tr>\n",
       "      <th>9</th>\n",
       "      <td>None</td>\n",
       "      <td>10</td>\n",
       "      <td>18337</td>\n",
       "      <td>2020-03-16</td>\n",
       "      <td>POINT (3954905.155 2912856.990)</td>\n",
       "    </tr>\n",
       "    <tr>\n",
       "      <th>10</th>\n",
       "      <td>None</td>\n",
       "      <td>11</td>\n",
       "      <td>18359</td>\n",
       "      <td>2020-04-07</td>\n",
       "      <td>POINT (3954919.997 2912783.839)</td>\n",
       "    </tr>\n",
       "    <tr>\n",
       "      <th>11</th>\n",
       "      <td>None</td>\n",
       "      <td>12</td>\n",
       "      <td>18402</td>\n",
       "      <td>2020-05-20</td>\n",
       "      <td>POINT (3954952.862 2912831.546)</td>\n",
       "    </tr>\n",
       "    <tr>\n",
       "      <th>12</th>\n",
       "      <td>None</td>\n",
       "      <td>13</td>\n",
       "      <td>18414</td>\n",
       "      <td>2020-06-01</td>\n",
       "      <td>POINT (3954988.908 2912828.366)</td>\n",
       "    </tr>\n",
       "    <tr>\n",
       "      <th>13</th>\n",
       "      <td>None</td>\n",
       "      <td>14</td>\n",
       "      <td>18437</td>\n",
       "      <td>2020-06-24</td>\n",
       "      <td>POINT (3955094.924 2912745.673)</td>\n",
       "    </tr>\n",
       "  </tbody>\n",
       "</table>\n",
       "</div>"
      ],
      "text/plain": [
       "      id  chgt_int  SAMPLE_1    date_mon                         geometry\n",
       "0   None         1     17917  2019-01-21  POINT (3954485.331 2912697.966)\n",
       "1   None         2     17992  2019-04-06  POINT (3954538.339 2912799.742)\n",
       "2   None         3     18062  2019-06-15  POINT (3954562.723 2912844.268)\n",
       "3   None         4     18087  2019-07-10  POINT (3954531.978 2912881.374)\n",
       "4   None         5     18149  2019-09-10  POINT (3954475.790 2912926.961)\n",
       "5   None         6     18159  2019-09-20  POINT (3954604.069 2912906.818)\n",
       "6   None         7     18234  2019-12-04  POINT (3954613.611 2912943.924)\n",
       "7   None         8     18249  2019-12-19  POINT (3954683.581 2912967.247)\n",
       "8   None         9     18299  2020-02-07  POINT (3954830.944 2912876.073)\n",
       "9   None        10     18337  2020-03-16  POINT (3954905.155 2912856.990)\n",
       "10  None        11     18359  2020-04-07  POINT (3954919.997 2912783.839)\n",
       "11  None        12     18402  2020-05-20  POINT (3954952.862 2912831.546)\n",
       "12  None        13     18414  2020-06-01  POINT (3954988.908 2912828.366)\n",
       "13  None        14     18437  2020-06-24  POINT (3955094.924 2912745.673)"
      ]
     },
     "execution_count": 6,
     "metadata": {},
     "output_type": "execute_result"
    }
   ],
   "source": [
    "# open samples\n",
    "vector = gpd.read_file(r\"data_ref/plot01_samples.shp\")\n",
    "vector"
   ]
  },
  {
   "cell_type": "markdown",
   "id": "8977bf8f-3051-48c2-bab4-9c8579ab1fd1",
   "metadata": {},
   "source": [
    "### 2.2. S2 datacubes loading\n",
    "\n",
    "The are two types of dataset:\n",
    "- vi-mask: complete time-series with cloud masks applied\n",
    "- vi-nocloud: partial time-series (cloudy images removed)"
   ]
  },
  {
   "cell_type": "code",
   "execution_count": null,
   "id": "38c31fc0-13fe-4ff3-9df1-95849a09cdfd",
   "metadata": {},
   "outputs": [],
   "source": [
    "vi_mask = xr.open_dataset(\n",
    "    r'data/S2TS_2017-01-2022-12_vi-mask.nc'\n",
    "    )\n",
    "vi_nocloud = xr.open_dataset(\n",
    "    r'data/S2TS_2017-01-2022-12_vi-nocloud.nc'\n",
    "    )"
   ]
  },
  {
   "cell_type": "markdown",
   "id": "f3711e9c-98ab-4a5e-9e4c-0ba6f7983df1",
   "metadata": {},
   "source": [
    "We get the 3 vegetation indices of vi_mask."
   ]
  },
  {
   "cell_type": "code",
   "execution_count": null,
   "id": "643d0e38-877f-4226-b157-5e6f347dd86d",
   "metadata": {},
   "outputs": [],
   "source": [
    "ndvi = vi_mask.ndvi\n",
    "ndmi = vi_mask.ndmi\n",
    "crswir = vi_mask.crswir"
   ]
  },
  {
   "cell_type": "markdown",
   "id": "4ed0f79c-4c77-449b-9b75-89f348529b5f",
   "metadata": {},
   "source": [
    "## 3. Tests NRT implemented methods\n",
    "### 3.1. Test 01: IQR method"
   ]
  },
  {
   "cell_type": "code",
   "execution_count": null,
   "id": "cc70d588-60e5-4f8c-87b9-1a6f1d43d16a",
   "metadata": {},
   "outputs": [],
   "source": [
    "# Instanciation\n",
    "IqrMon = IQR(\n",
    "    trend=False,\n",
    "    harmonic_order=2,\n",
    "    sensitivity=3,\n",
    "    boundary=3\n",
    ")"
   ]
  },
  {
   "cell_type": "code",
   "execution_count": null,
   "id": "fae0ab20-154a-45d0-87a4-0f1cd6ce9fbc",
   "metadata": {},
   "outputs": [],
   "source": [
    "# period dates (yyyy, mm, dd)\n",
    "d1 = dt.datetime(2017, 1, 1)\n",
    "d2 = dt.datetime(2018, 6, 30)\n",
    "d3 = dt.datetime(2020, 12, 31)\n",
    "\n",
    "list_diff = list()\n",
    "list_none = 0\n",
    "for i in range(len(vector)):\n",
    "    pt = vector.iloc[i]\n",
    "    pt_x = pt['geometry'].x\n",
    "    pt_y = pt['geometry'].y\n",
    "    pt_date = pt['SAMPLE_1']\n",
    "    my_plot = Nrt_plot(IqrMon, crswir, [d1, d2], [d2, d3],\n",
    "                       'CRSWIR', 'IQR', ylim=[-0.5, 2],\n",
    "                       coords=[pt_x, pt_y]\n",
    "                      )\n",
    "\n",
    "    my_plot.plot_predict()\n",
    "    my_plot.plot_break()\n",
    "    my_plot.plot_date(pt_date)\n",
    "    my_plot.plot_model()\n",
    "    # get break date\n",
    "    monitor_date = my_plot.break_dt\n",
    "    if monitor_date == 0:\n",
    "        list_none += 1\n",
    "    else:\n",
    "        diff = monitor_date - pt_date\n",
    "        list_diff.append(diff)\n",
    "\n",
    "    my_plot.show()\n",
    "\n",
    "# for saving graph as image file:\n",
    "# my_plot.savefig('<path>/my_plot.png')"
   ]
  },
  {
   "cell_type": "markdown",
   "id": "764279e8-2109-4fc7-81f9-892d82d08bf8",
   "metadata": {},
   "source": [
    "Brief assessment:"
   ]
  },
  {
   "cell_type": "code",
   "execution_count": null,
   "id": "3664a5b0-f542-470b-b568-88f034700749",
   "metadata": {},
   "outputs": [],
   "source": [
    "# Assessment based on absolute difference\n",
    "if len(list_diff) > 0:\n",
    "    abs_diff = [np.abs(i) for i in list_diff]\n",
    "    diff_mean = np.mean(abs_diff)\n",
    "    diff_max = np.max(abs_diff)\n",
    "    diff_min = np.min(abs_diff)\n",
    "\n",
    "    print(\"number of days between reference and detection:\\n---\")\n",
    "    print(f\"-mean:{diff_mean}\\n-min: {diff_min}\\n-max: {diff_max}\")\n",
    "    print(f\"false negatives:{list_none}\")"
   ]
  },
  {
   "cell_type": "markdown",
   "id": "4f39eb91-b8e1-44ea-bcd5-20063d71e581",
   "metadata": {},
   "source": [
    "### 3.2. Test 02: EWMA method"
   ]
  },
  {
   "cell_type": "code",
   "execution_count": null,
   "id": "e8a3b2cb-02c4-4f56-8eb5-2486629bcb07",
   "metadata": {},
   "outputs": [],
   "source": [
    "# Instantiation \n",
    "EwmaMon = EWMA(trend=False,\n",
    "               harmonic_order=2,\n",
    "               sensitivity=7,\n",
    "               threshold_outlier=1, #100,\n",
    "               lambda_=1,\n",
    "              )"
   ]
  },
  {
   "cell_type": "code",
   "execution_count": null,
   "id": "5ee3cae6-fa75-46bf-b753-026cac712761",
   "metadata": {},
   "outputs": [],
   "source": [
    "# period dates (yyyy, mm, dd)\n",
    "d1 = dt.datetime(2017, 1, 1)\n",
    "d2 = dt.datetime(2018, 6, 30)\n",
    "d3 = dt.datetime(2020, 12, 31)\n",
    "\n",
    "list_diff = list()\n",
    "list_none = 0\n",
    "for i in range(len(vector)):\n",
    "    pt = vector.iloc[i]\n",
    "    pt_x = pt['geometry'].x\n",
    "    pt_y = pt['geometry'].y\n",
    "    pt_date = pt['SAMPLE_1']\n",
    "    my_plot = Nrt_plot(EwmaMon, crswir, [d1, d2], [d2, d3],\n",
    "                       'CRSWIR', 'EWMA', ylim=[-0.5, 2],\n",
    "                       coords=[pt_x, pt_y]\n",
    "                      )\n",
    "\n",
    "    my_plot.plot_predict()\n",
    "    my_plot.plot_break()\n",
    "    my_plot.plot_date(pt_date)\n",
    "    my_plot.plot_model()\n",
    "    # get break date\n",
    "    monitor_date = my_plot.break_dt\n",
    "    if monitor_date == 0:\n",
    "        list_none += 1\n",
    "    else:\n",
    "        diff = monitor_date - pt_date\n",
    "        list_diff.append(diff)\n",
    "    my_plot.show()\n",
    "\n",
    "# for saving graph as image file:\n",
    "# my_plot.savefig('<path>/my_plot.png')"
   ]
  },
  {
   "cell_type": "markdown",
   "id": "8aec62c7-745f-49e7-9a91-4e53a85f4510",
   "metadata": {},
   "source": [
    "Brief assessment:"
   ]
  },
  {
   "cell_type": "code",
   "execution_count": null,
   "id": "fafa6fc4-4780-4891-8a47-39308a795abd",
   "metadata": {},
   "outputs": [],
   "source": [
    "# Assessment based on absolute difference\n",
    "if len(list_diff) > 0:\n",
    "    abs_diff = [np.abs(i) for i in list_diff]\n",
    "    diff_mean = np.mean(abs_diff)\n",
    "    diff_max = np.max(abs_diff)\n",
    "    diff_min = np.min(abs_diff)\n",
    "\n",
    "    print(\"number of days between reference and detection:\\n---\")\n",
    "    print(f\"-mean:{diff_mean}\\n-min: {diff_min}\\n-max: {diff_max}\")\n",
    "    print(f\"false negatives:{list_none}\")"
   ]
  },
  {
   "cell_type": "markdown",
   "id": "fe10a4dd-167b-474e-ad9f-54750e374778",
   "metadata": {},
   "source": [
    "### 3.3. Test 03: CUSUM method"
   ]
  },
  {
   "cell_type": "code",
   "execution_count": null,
   "id": "7cdc0945-064a-47e4-a2c3-b6a8a8e89cf6",
   "metadata": {},
   "outputs": [],
   "source": [
    "# Instantiation \n",
    "CusumMon = CuSum(trend=False,\n",
    "               harmonic_order=2,\n",
    "               sensitivity=8,\n",
    "               #lambda_=0.1, \n",
    "               #threshold_outlier=2\n",
    "              )"
   ]
  },
  {
   "cell_type": "code",
   "execution_count": null,
   "id": "87d1c278-73eb-4f0d-9ad1-98a1d7cf642a",
   "metadata": {},
   "outputs": [],
   "source": [
    "# period dates (yyyy, mm, dd)\n",
    "d1 = dt.datetime(2017, 1, 1)\n",
    "d2 = dt.datetime(2018, 6, 30)\n",
    "d3 = dt.datetime(2020, 12, 31)\n",
    "\n",
    "list_diff = list()\n",
    "list_none = 0\n",
    "for i in range(len(vector)):\n",
    "    pt = vector.iloc[i]\n",
    "    pt_x = pt['geometry'].x\n",
    "    pt_y = pt['geometry'].y\n",
    "    pt_date = pt['SAMPLE_1']\n",
    "    my_plot = Nrt_plot(CusumMon, crswir, [d1, d2], [d2, d3],\n",
    "                       'CRSWIR', 'CuSum', ylim=[-0.5, 2],\n",
    "                       coords=[pt_x, pt_y]\n",
    "                      )\n",
    "\n",
    "    my_plot.plot_predict()\n",
    "    my_plot.plot_break()\n",
    "    my_plot.plot_date(pt_date)\n",
    "    my_plot.plot_model()\n",
    "    # get break date\n",
    "    monitor_date = my_plot.break_dt\n",
    "    if monitor_date == 0:\n",
    "        list_none += 1\n",
    "    else:\n",
    "        diff = monitor_date - pt_date\n",
    "        list_diff.append(diff)\n",
    "    my_plot.show()\n",
    "\n",
    "# for saving graph as image file:\n",
    "# my_plot.savefig('<path>/my_plot.png')"
   ]
  },
  {
   "cell_type": "markdown",
   "id": "d826830f-3a2d-4735-a78b-6d5e3337748d",
   "metadata": {},
   "source": [
    "Brief assessment:"
   ]
  },
  {
   "cell_type": "code",
   "execution_count": null,
   "id": "59f5e8d4-a7c1-4b67-83df-7c2f961225a3",
   "metadata": {},
   "outputs": [],
   "source": [
    "# Assessment based on absolute difference\n",
    "if len(list_diff) > 0:\n",
    "    abs_diff = [np.abs(i) for i in list_diff]\n",
    "    diff_mean = np.mean(abs_diff)\n",
    "    diff_max = np.max(abs_diff)\n",
    "    diff_min = np.min(abs_diff)\n",
    "\n",
    "    print(\"number of days between reference and detection:\\n---\")\n",
    "    print(f\"-mean:{diff_mean}\\n-min: {diff_min}\\n-max: {diff_max}\")\n",
    "    print(f\"false negatives:{list_none}\")"
   ]
  },
  {
   "cell_type": "markdown",
   "id": "78e08966-0f02-4f4c-98cc-9aa5cd7a31c1",
   "metadata": {},
   "source": [
    "### 3.4. Test 04: MoSum method"
   ]
  },
  {
   "cell_type": "code",
   "execution_count": null,
   "id": "0dcd296d-b964-45d5-a34c-2177ca1971d9",
   "metadata": {},
   "outputs": [],
   "source": [
    "# Instanciation\n",
    "MosumMon = MoSum(\n",
    "    trend=False,\n",
    "    harmonic_order=2,\n",
    "    sensitivity=3\n",
    "    #alpha=0.03\n",
    ")"
   ]
  },
  {
   "cell_type": "code",
   "execution_count": null,
   "id": "451155c4-c38b-4ce7-bacc-3760871349d2",
   "metadata": {},
   "outputs": [],
   "source": [
    "# period dates (yyyy, mm, dd)\n",
    "d1 = dt.datetime(2017, 1, 1)\n",
    "d2 = dt.datetime(2018, 6, 30)\n",
    "d3 = dt.datetime(2020, 12, 31)\n",
    "\n",
    "list_diff = list()\n",
    "list_none = 0\n",
    "for i in range(len(vector)):\n",
    "    pt = vector.iloc[i]\n",
    "    pt_x = pt['geometry'].x\n",
    "    pt_y = pt['geometry'].y\n",
    "    pt_date = pt['SAMPLE_1']\n",
    "    my_plot = Nrt_plot(MosumMon, crswir, [d1, d2], [d2, d3],\n",
    "                       'CRSWIR', 'MoSum', ylim=[-0.5, 2],\n",
    "                       coords=[pt_x, pt_y]\n",
    "                      )\n",
    "\n",
    "    my_plot.plot_predict()\n",
    "    my_plot.plot_break()\n",
    "    my_plot.plot_date(pt_date)\n",
    "    my_plot.plot_model()\n",
    "    # get break date\n",
    "    monitor_date = my_plot.break_dt\n",
    "    if monitor_date == 0:\n",
    "        list_none += 1\n",
    "    else:\n",
    "        diff = monitor_date - pt_date\n",
    "        list_diff.append(diff)\n",
    "    my_plot.show()\n",
    "\n",
    "# for saving graph as image file:\n",
    "# my_plot.savefig('<path>/my_plot.png')"
   ]
  },
  {
   "cell_type": "markdown",
   "id": "8a55182d-f6fb-414e-a793-0277c9087cd9",
   "metadata": {},
   "source": [
    "### 3.5. Test 05: CCDC method"
   ]
  },
  {
   "cell_type": "code",
   "execution_count": null,
   "id": "07504eb2-5940-4115-832b-3976be3d09a7",
   "metadata": {},
   "outputs": [],
   "source": [
    "# Instanciation\n",
    "CcdcMon = CCDC(\n",
    "    trend=False,\n",
    "    harmonic_order=2,\n",
    "    sensitivity=3,\n",
    "    boundary=3\n",
    ")"
   ]
  },
  {
   "cell_type": "code",
   "execution_count": null,
   "id": "bb767f0e-ade8-45db-b6b5-ff02f350e1f9",
   "metadata": {},
   "outputs": [],
   "source": [
    "array = xr.open_dataset(\n",
    "    f'data/S2TS_2017-01-2022-12.nc'\n",
    "    )\n"
   ]
  },
  {
   "cell_type": "code",
   "execution_count": null,
   "id": "f6c43336-7008-41aa-b217-7cde10236233",
   "metadata": {},
   "outputs": [],
   "source": [
    "# period dates (yyyy, mm, dd)\n",
    "d1 = dt.datetime(2017, 1, 1)\n",
    "d2 = dt.datetime(2019, 1, 1)\n",
    "d3 = dt.datetime(2020, 12, 31)\n",
    "\n",
    "list_diff = list()\n",
    "list_none = 0\n",
    "for i in range(len(vector)):\n",
    "    pt = vector.iloc[i]\n",
    "    pt_x = pt['geometry'].x\n",
    "    pt_y = pt['geometry'].y\n",
    "    pt_date = pt['SAMPLE_1']\n",
    "\n",
    "    # --- for ccdc only ---\n",
    "    green = array.B03.sel(x=[pt_x], y=[pt_y],\n",
    "                                   method='nearest')\n",
    "    swir = array.B11.sel(x=[pt_x], y=[pt_y],\n",
    "                                   method='nearest')\n",
    "\n",
    "    cloud_mask = array.SCL.isin([3, 8, 9, 10])\n",
    "\n",
    "    green_mask = green.where(~cloud_mask)\n",
    "    swir_mask = swir.where(~cloud_mask)\n",
    "    \n",
    "    print(green_mask.dims)\n",
    "    #green = green.astype(np.int16)\n",
    "    #swir = swir.astype(np.int16)\n",
    "\n",
    "    # --- end ---\n",
    "\n",
    "    my_plot = Nrt_plot(CcdcMon, crswir, [d1, d2], [d2, d3],\n",
    "                       'CRSWIR', 'CCDC', ylim=[-0.5, 2],\n",
    "                       coords=[pt_x, pt_y], green=green_mask, swir=swir_mask\n",
    "                      )\n",
    "\n",
    "    my_plot.plot_predict()\n",
    "    my_plot.plot_break()\n",
    "    my_plot.plot_date(pt_date)\n",
    "    my_plot.plot_model()\n",
    "    # get break date\n",
    "    monitor_date = my_plot.break_dt\n",
    "    if monitor_date == 0:\n",
    "        list_none += 1\n",
    "    else:\n",
    "        diff = monitor_date - pt_date\n",
    "        list_diff.append(diff)\n",
    "    my_plot.show()\n",
    "\n",
    "# for saving graph as image file:\n",
    "# my_plot.savefig('<path>/my_plot.png')\n"
   ]
  }
 ],
 "metadata": {
  "kernelspec": {
   "display_name": "Python 3 (ipykernel)",
   "language": "python",
   "name": "python3"
  },
  "language_info": {
   "codemirror_mode": {
    "name": "ipython",
    "version": 3
   },
   "file_extension": ".py",
   "mimetype": "text/x-python",
   "name": "python",
   "nbconvert_exporter": "python",
   "pygments_lexer": "ipython3",
   "version": "3.11.8"
  }
 },
 "nbformat": 4,
 "nbformat_minor": 5
}
